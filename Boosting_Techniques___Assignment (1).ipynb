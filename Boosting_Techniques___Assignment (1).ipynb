{
  "nbformat": 4,
  "nbformat_minor": 0,
  "metadata": {
    "colab": {
      "provenance": []
    },
    "kernelspec": {
      "name": "python3",
      "display_name": "Python 3"
    },
    "language_info": {
      "name": "python"
    }
  },
  "cells": [
    {
      "cell_type": "markdown",
      "source": [
        "### 1 What is Boosting in Machine Learning?  \n",
        "\n",
        "Boosting is an ensemble technique that combines multiple weak learners (typically decision trees) sequentially. Each model corrects the errors of its predecessor, improving overall accuracy. It reduces bias and variance, making it powerful for both classification and regression.\n",
        "\n",
        "\n",
        "\n",
        "\n",
        "### 2 Difference between AdaBoost and Gradient Boosting  \n",
        "\n",
        "\n",
        "**AdaBoost**, short for Adaptive Boosting, works by adjusting the weights of training samples. Initially, all samples are given equal weight. After each iteration, it increases the weight of misclassified samples so that the next weak learner focuses more on those difficult cases. The final prediction is a weighted vote of all weak learners. It’s simple and effective, especially for clean datasets, but can be sensitive to noisy data and outliers.\n",
        "\n",
        "**Gradient Boosting**, on the other hand, builds models sequentially by fitting each new model to the residual errors of the previous one. Instead of reweighting samples, it uses gradient descent to minimize a loss function. This makes it more flexible and powerful, especially when dealing with complex patterns or noisy data. It also allows for regularization techniques to reduce overfitting.\n",
        "\n",
        "**In short:** AdaBoost focuses on misclassified samples by reweighting them, while Gradient Boosting focuses on minimizing prediction errors using gradients. Gradient Boosting tends to be more robust and customizable, which is why variants like XGBoost and LightGBM are widely used in practice.\n",
        "\n",
        "\n",
        "\n",
        "\n",
        "\n",
        "\n",
        "\n",
        "\n",
        "### 3 How does Regularization help in XGBoost?  \n",
        "\n",
        "\n",
        "\n",
        "Regularization (via `reg_alpha` and `reg_lambda`) penalizes model complexity, reducing overfitting. It ensures trees don’t grow too deep or overly fit noise, improving generalization.\n",
        "\n",
        "\n",
        "\n",
        "\n",
        "### 4 Why is CatBoost efficient for categorical data?  \n",
        "\n",
        "\n",
        "\n",
        "CatBoost handles categorical features natively using ordered boosting and target statistics, avoiding one-hot encoding. It prevents overfitting and is robust to data leakage.\n",
        "\n",
        "\n",
        "\n",
        "### 5 Real-world applications where Boosting is preferred  \n",
        "\n",
        "\n",
        "\n",
        "- **Credit scoring**  \n",
        "- **Fraud detection**  \n",
        "- **Medical diagnosis**  \n",
        "- **Customer churn prediction**  \n",
        "Boosting excels in handling complex patterns and imbalanced data.\n",
        "\n",
        "\n"
      ],
      "metadata": {
        "id": "YK8Nie7q-_S4"
      }
    },
    {
      "cell_type": "markdown",
      "source": [
        "### 6 AdaBoost on Breast Cancer Dataset  \n",
        "\n"
      ],
      "metadata": {
        "id": "fStklPMg_X1w"
      }
    },
    {
      "cell_type": "code",
      "source": [
        "import numpy as np\n",
        "import pandas as pd\n",
        "import warnings\n",
        "warnings.filterwarnings('ignore')\n",
        "from sklearn.datasets import load_breast_cancer\n",
        "from sklearn.ensemble import AdaBoostClassifier\n",
        "from sklearn.model_selection import train_test_split\n",
        "from sklearn.metrics import accuracy_score\n",
        "\n",
        "X, y = load_breast_cancer(return_X_y=True)\n",
        "X_train, X_test, y_train, y_test = train_test_split(X, y, random_state=42)\n",
        "\n",
        "model = AdaBoostClassifier(n_estimators=100)\n",
        "model.fit(X_train, y_train)\n",
        "print(\"Accuracy:\", accuracy_score(y_test, model.predict(X_test)))\n",
        "\n",
        "\n"
      ],
      "metadata": {
        "colab": {
          "base_uri": "https://localhost:8080/"
        },
        "id": "2iK_N-vD_YfA",
        "outputId": "d5625812-e21f-4609-a8f6-29cb2b628c2a"
      },
      "execution_count": 7,
      "outputs": [
        {
          "output_type": "stream",
          "name": "stdout",
          "text": [
            "Accuracy: 0.9790209790209791\n"
          ]
        }
      ]
    },
    {
      "cell_type": "markdown",
      "source": [
        "### 7 Gradient Boosting on California Housing\n",
        "\n"
      ],
      "metadata": {
        "id": "CcXHn_Lg_4eK"
      }
    },
    {
      "cell_type": "code",
      "source": [
        "import numpy as np\n",
        "import pandas as pd\n",
        "import warnings\n",
        "warnings.filterwarnings('ignore')\n",
        "from sklearn.datasets import fetch_california_housing\n",
        "from sklearn.ensemble import GradientBoostingRegressor\n",
        "from sklearn.model_selection import train_test_split\n",
        "from sklearn.metrics import r2_score\n",
        "\n",
        "X, y = fetch_california_housing(return_X_y=True)\n",
        "X_train, X_test, y_train, y_test = train_test_split(X, y, random_state=42)\n",
        "\n",
        "model = GradientBoostingRegressor()\n",
        "model.fit(X_train, y_train)\n",
        "print(\"R² Score:\", r2_score(y_test, model.predict(X_test)))\n",
        "\n",
        "\n"
      ],
      "metadata": {
        "colab": {
          "base_uri": "https://localhost:8080/"
        },
        "id": "oUR2QDpW_4rH",
        "outputId": "82f64d08-6c8b-4424-d653-a55423022c4c"
      },
      "execution_count": 8,
      "outputs": [
        {
          "output_type": "stream",
          "name": "stdout",
          "text": [
            "R² Score: 0.7811978514001833\n"
          ]
        }
      ]
    },
    {
      "cell_type": "markdown",
      "source": [
        "### 8  XGBoost with GridSearchCV  \n"
      ],
      "metadata": {
        "id": "W68FldTvAQ2z"
      }
    },
    {
      "cell_type": "code",
      "source": [
        "import pandas as pd\n",
        "import warnings\n",
        "warnings.filterwarnings('ignore')\n",
        "from xgboost import XGBClassifier\n",
        "from sklearn.datasets import load_breast_cancer\n",
        "from sklearn.model_selection import GridSearchCV\n",
        "\n",
        "X, y = load_breast_cancer(return_X_y=True)\n",
        "params = {\"learning_rate\": [0.01, 0.1, 0.2]}\n",
        "model = XGBClassifier(use_label_encoder=False, eval_metric=\"logloss\")\n",
        "grid = GridSearchCV(model, params, cv=3)\n",
        "grid.fit(X, y)\n",
        "print(\"Best Params:\", grid.best_params_)\n",
        "print(\"Accuracy:\", grid.best_score_)\n"
      ],
      "metadata": {
        "colab": {
          "base_uri": "https://localhost:8080/"
        },
        "id": "OFuU7HJtASfM",
        "outputId": "61b8ad10-7bfb-4515-a53c-cffee33a807c"
      },
      "execution_count": 9,
      "outputs": [
        {
          "output_type": "stream",
          "name": "stdout",
          "text": [
            "Best Params: {'learning_rate': 0.1}\n",
            "Accuracy: 0.9648565859092174\n"
          ]
        }
      ]
    },
    {
      "cell_type": "markdown",
      "source": [
        "### 9   CatBoost Classifier + Confusion Matrix  \n"
      ],
      "metadata": {
        "id": "OS4di_FnAt8g"
      }
    },
    {
      "cell_type": "code",
      "source": [
        "import pandas as pd\n",
        "import warnings\n",
        "warnings.filterwarnings('ignore')\n",
        "\n",
        "from catboost import CatBoostClassifier\n",
        "from sklearn.datasets import load_breast_cancer\n",
        "from sklearn.model_selection import train_test_split\n",
        "from sklearn.metrics import confusion_matrix\n",
        "import seaborn as sns\n",
        "import matplotlib.pyplot as plt\n",
        "\n",
        "# Load dataset\n",
        "data = load_breast_cancer()\n",
        "X = pd.DataFrame(data.data, columns=data.feature_names)\n",
        "y = pd.Series(data.target)\n",
        "\n",
        "# Train-test split\n",
        "X_train, X_test, y_train, y_test = train_test_split(X, y, random_state=42)\n",
        "\n",
        "# Initialize and train CatBoost\n",
        "model = CatBoostClassifier(verbose=0)\n",
        "model.fit(X_train, y_train)\n",
        "\n",
        "# Predictions\n",
        "y_pred = model.predict(X_test)\n",
        "\n",
        "# Confusion matrix\n",
        "cm = confusion_matrix(y_test, y_pred)\n",
        "\n",
        "# Plot\n",
        "plt.figure(figsize=(6, 4))\n",
        "sns.heatmap(cm, annot=True, fmt=\"d\", cmap=\"Blues\", xticklabels=data.target_names, yticklabels=data.target_names)\n",
        "plt.xlabel(\"Predicted\")\n",
        "plt.ylabel(\"Actual\")\n",
        "plt.title(\"Confusion Matrix\")\n",
        "plt.tight_layout()\n",
        "plt.show()"
      ],
      "metadata": {
        "colab": {
          "base_uri": "https://localhost:8080/",
          "height": 407
        },
        "id": "SVGKjHb_AuUn",
        "outputId": "5127d65b-47ea-4512-a6b9-c5bde82fa07d"
      },
      "execution_count": 10,
      "outputs": [
        {
          "output_type": "display_data",
          "data": {
            "text/plain": [
              "<Figure size 600x400 with 2 Axes>"
            ],
            "image/png": "[encoded data removed]"
          },
          "metadata": {}
        }
      ]
    },
    {
      "cell_type": "markdown",
      "source": [
        "### 10 You're working for a FinTech company trying to predict loan default using customer demographics and transaction behavior. The dataset is imbalanced, contains missing values, and has both numeric and categorical features.\n",
        "\n",
        "Describe your step-by-step data science pipeline using boosting techniques:\n",
        "\n",
        "● Data preprocessing & handling missing/categorical values\n",
        "\n",
        "● Choice between AdaBoost, XGBoost, or CatBoost\n",
        "\n",
        "● Hyperparameter tuning strategy\n",
        "\n",
        "● Evaluation metrics you'd choose and why\n",
        "\n",
        "● How the business would benefit from your model\n",
        "\n",
        "\n",
        "\n",
        "**Step-by-step Approach**:\n",
        "- **Preprocessing**:  \n",
        "  - Impute missing values (mean for numeric, mode for categorical)  \n",
        "  - Encode categorical features (CatBoost handles this natively)  \n",
        "- **Model Choice**:  \n",
        "  - Use **CatBoost** for mixed data types and missing values  \n",
        "- **Hyperparameter Tuning**:  \n",
        "  - Use `GridSearchCV` or `RandomizedSearchCV` on depth, learning rate, iterations  \n",
        "- **Evaluation Metrics**:  \n",
        "  - Use **ROC-AUC**, **F1-score**, and **Precision-Recall** for imbalanced data  \n",
        "- **Business Impact**:  \n",
        "  - Accurate default prediction reduces financial risk, improves lending decisions, and enhances customer trust\n",
        "\n"
      ],
      "metadata": {
        "id": "SM-vzBahBNuM"
      }
    },
    {
      "cell_type": "code",
      "source": [
        "import pandas as pd\n",
        "import numpy as np\n",
        "from sklearn.model_selection import train_test_split, RandomizedSearchCV\n",
        "from sklearn.metrics import roc_auc_score, f1_score, precision_recall_curve, auc, classification_report\n",
        "from lightgbm import LGBMClassifier\n",
        "from sklearn.preprocessing import LabelEncoder\n",
        "\n",
        "# Load dataset\n",
        "df = pd.read_csv(\"Default_Fin.csv\")  # Replace with actual path if needed\n",
        "\n",
        "# Separate features and target\n",
        "X = df.drop(columns=['Defaulted?'])\n",
        "y = df['Defaulted?']\n",
        "\n",
        "# Encode categorical features\n",
        "for col in X.select_dtypes(include=['object', 'bool']).columns:\n",
        "    X[col] = X[col].astype(str).fillna(\"missing\")\n",
        "    X[col] = LabelEncoder().fit_transform(X[col])\n",
        "\n",
        "# Fill missing numeric values\n",
        "X = X.fillna(X.median())\n",
        "\n",
        "# Train-test split\n",
        "X_train, X_test, y_train, y_test = train_test_split(X, y, stratify=y, random_state=42)\n",
        "\n",
        "# Model and tuning\n",
        "model = LGBMClassifier()\n",
        "params = {\n",
        "    'num_leaves': [31, 50],\n",
        "    'learning_rate': [0.01, 0.1],\n",
        "    'n_estimators': [100, 300],\n",
        "    'min_child_samples': [20, 50]\n",
        "}\n",
        "grid = RandomizedSearchCV(model, params, scoring='roc_auc', cv=3, n_iter=5, random_state=42)\n",
        "grid.fit(X_train, y_train)\n",
        "\n",
        "# Evaluation\n",
        "best_model = grid.best_estimator_\n",
        "y_pred = best_model.predict(X_test)\n",
        "y_proba = best_model.predict_proba(X_test)[:, 1]\n",
        "\n",
        "roc_auc = roc_auc_score(y_test, y_proba)\n",
        "f1 = f1_score(y_test, y_pred)\n",
        "precision, recall, _ = precision_recall_curve(y_test, y_proba)\n",
        "pr_auc = auc(recall, precision)\n",
        "\n",
        "print(f\"ROC-AUC: {roc_auc:.4f}\")\n",
        "print(f\"F1 Score: {f1:.4f}\")\n",
        "print(f\"Precision-Recall AUC: {pr_auc:.4f}\")\n",
        "print(\"\\nClassification Report:\\n\", classification_report(y_test, y_pred))\n"
      ],
      "metadata": {
        "id": "8IR5m_8mBN-_"
      },
      "execution_count": 10,
      "outputs": []
    }
  ]
}